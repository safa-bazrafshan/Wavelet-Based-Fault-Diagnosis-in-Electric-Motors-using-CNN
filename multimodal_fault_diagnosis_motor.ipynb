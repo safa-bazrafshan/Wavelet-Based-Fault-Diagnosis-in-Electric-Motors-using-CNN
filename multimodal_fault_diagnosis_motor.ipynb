{
  "nbformat": 4,
  "nbformat_minor": 0,
  "metadata": {
    "colab": {
      "provenance": []
    },
    "kernelspec": {
      "name": "python3",
      "display_name": "Python 3"
    },
    "language_info": {
      "name": "python"
    }
  },
  "cells": [
    {
      "cell_type": "code",
      "execution_count": 1,
      "metadata": {
        "colab": {
          "base_uri": "https://localhost:8080/"
        },
        "id": "eYpx_XZyEZor",
        "outputId": "ba9d2c6e-8ec0-4a21-fdcc-1ae6d2d4c790"
      },
      "outputs": [
        {
          "output_type": "stream",
          "name": "stdout",
          "text": [
            "✅ All signals generated and saved.\n"
          ]
        }
      ],
      "source": [
        "import numpy as np\n",
        "import matplotlib.pyplot as plt\n",
        "import os\n",
        "\n",
        "# Create folder to save signals\n",
        "os.makedirs(\"signals\", exist_ok=True)\n",
        "\n",
        "# Signal generator functions\n",
        "def generate_healthy_signal(length=1000, freq=50, noise=0.05):\n",
        "    t = np.linspace(0, 1, length)\n",
        "    signal = np.sin(2 * np.pi * freq * t) + noise * np.random.randn(length)\n",
        "    return t, signal\n",
        "\n",
        "def generate_broken_rotor_signal(length=1000, freq=50, noise=0.05):\n",
        "    t = np.linspace(0, 1, length)\n",
        "    modulator = 1 + 0.3 * np.sin(2 * np.pi * 5 * t)\n",
        "    signal = modulator * np.sin(2 * np.pi * freq * t) + noise * np.random.randn(length)\n",
        "    return t, signal\n",
        "\n",
        "def generate_bearing_fault_signal(length=1000, freq=50, noise=0.05):\n",
        "    t = np.linspace(0, 1, length)\n",
        "    bursts = np.zeros(length)\n",
        "    bursts[200:210] = 1\n",
        "    bursts[500:510] = 1\n",
        "    bursts[750:760] = 1\n",
        "    signal = np.sin(2 * np.pi * freq * t) + 0.6 * bursts + noise * np.random.randn(length)\n",
        "    return t, signal\n",
        "\n",
        "def generate_combined_fault_signal(length=1000, freq=50, noise=0.05):\n",
        "    t = np.linspace(0, 1, length)\n",
        "    modulator = 1 + 0.3 * np.sin(2 * np.pi * 5 * t)\n",
        "    bursts = np.zeros(length)\n",
        "    bursts[300:310] = 1\n",
        "    bursts[600:610] = 1\n",
        "    signal = modulator * np.sin(2 * np.pi * freq * t) + 0.6 * bursts + noise * np.random.randn(length)\n",
        "    return t, signal\n",
        "\n",
        "def generate_sensor_fault_signal(length=1000, freq=50, noise=0.5):\n",
        "    t = np.linspace(0, 1, length)\n",
        "    signal = np.sin(2 * np.pi * freq * t) + noise * np.random.randn(length)\n",
        "    return t, signal\n",
        "\n",
        "# Save signals and plots\n",
        "def plot_and_save(t, signal, title, filename):\n",
        "    plt.figure(figsize=(10, 3))\n",
        "    plt.plot(t, signal)\n",
        "    plt.title(title)\n",
        "    plt.xlabel(\"Time (s)\")\n",
        "    plt.ylabel(\"Amplitude\")\n",
        "    plt.grid(True)\n",
        "    plt.tight_layout()\n",
        "    plt.savefig(f\"signals/{filename}\")\n",
        "    plt.close()\n",
        "\n",
        "# Generate signals\n",
        "signals = {\n",
        "    \"healthy\": generate_healthy_signal(),\n",
        "    \"broken_rotor\": generate_broken_rotor_signal(),\n",
        "    \"bearing_fault\": generate_bearing_fault_signal(),\n",
        "    \"combined_fault\": generate_combined_fault_signal(),\n",
        "    \"sensor_noise\": generate_sensor_fault_signal()\n",
        "}\n",
        "\n",
        "# Save all\n",
        "for label, (t, signal) in signals.items():\n",
        "    plot_and_save(t, signal, f\"{label.replace('_', ' ').title()} Signal\", f\"{label}.png\")\n",
        "    np.save(f\"signals/{label}.npy\", signal)\n",
        "\n",
        "print(\"✅ All signals generated and saved.\")"
      ]
    },
    {
      "cell_type": "code",
      "source": [
        "!pip install PyWavelets"
      ],
      "metadata": {
        "colab": {
          "base_uri": "https://localhost:8080/"
        },
        "id": "SnPboFZ0FhNd",
        "outputId": "875bb070-0437-4320-b710-6d220a862e59"
      },
      "execution_count": 2,
      "outputs": [
        {
          "output_type": "stream",
          "name": "stdout",
          "text": [
            "Requirement already satisfied: PyWavelets in /usr/local/lib/python3.11/dist-packages (1.8.0)\n",
            "Requirement already satisfied: numpy<3,>=1.23 in /usr/local/lib/python3.11/dist-packages (from PyWavelets) (2.0.2)\n"
          ]
        }
      ]
    },
    {
      "cell_type": "code",
      "source": [
        "import numpy as np\n",
        "import matplotlib.pyplot as plt\n",
        "import pywt\n",
        "import os\n",
        "\n",
        "# Create output folder\n",
        "os.makedirs(\"scalograms\", exist_ok=True)\n",
        "\n",
        "# Set wavelet and scales\n",
        "wavelet = 'cmor1.5-1.0'  # Complex Morlet wavelet\n",
        "scales = np.arange(1, 64)\n",
        "\n",
        "# Function to generate and save scalogram\n",
        "def create_scalogram(signal, label, index):\n",
        "    coef, freqs = pywt.cwt(signal, scales, wavelet)\n",
        "    power = np.abs(coef)\n",
        "\n",
        "    plt.figure(figsize=(5, 4))\n",
        "    plt.imshow(power, extent=[0, 1, 1, 64], cmap='jet', aspect='auto', origin='lower')\n",
        "    plt.axis('off')\n",
        "    filename = f\"scalograms/{label}_{index}.png\"\n",
        "    plt.savefig(filename, bbox_inches='tight', pad_inches=0)\n",
        "    plt.close()\n",
        "    return filename\n",
        "\n",
        "# Load signals from saved .npy files\n",
        "labels = [\"healthy\", \"broken_rotor\", \"bearing_fault\", \"combined_fault\", \"sensor_noise\"]\n",
        "\n",
        "count = 0\n",
        "for label in labels:\n",
        "    signal = np.load(f\"signals/{label}.npy\")\n",
        "    for i in range(6):  # Generate multiple samples by window slicing\n",
        "        start = i * 150\n",
        "        segment = signal[start:start+500]\n",
        "        create_scalogram(segment, label, i)\n",
        "        count += 1\n",
        "\n",
        "print(f\"{count} scalogram images saved in 'scalograms' folder.\")"
      ],
      "metadata": {
        "colab": {
          "base_uri": "https://localhost:8080/"
        },
        "id": "-JJyNtxQFt49",
        "outputId": "034f2ee9-3f5c-4783-b508-849836e1f02a"
      },
      "execution_count": 3,
      "outputs": [
        {
          "output_type": "stream",
          "name": "stdout",
          "text": [
            "30 scalogram images saved in 'scalograms' folder.\n"
          ]
        }
      ]
    },
    {
      "cell_type": "code",
      "source": [
        "import os\n",
        "import numpy as np\n",
        "import cv2\n",
        "from sklearn.model_selection import train_test_split\n",
        "from tensorflow.keras.models import Sequential\n",
        "from tensorflow.keras.layers import Conv2D, MaxPooling2D, Flatten, Dense\n",
        "from tensorflow.keras.utils import to_categorical\n",
        "from sklearn.preprocessing import LabelEncoder\n",
        "\n",
        "# Load images and labels\n",
        "img_size = 128\n",
        "X = []\n",
        "y = []\n",
        "\n",
        "for filename in os.listdir(\"scalograms\"):\n",
        "    if filename.endswith(\".png\"):\n",
        "        path = os.path.join(\"scalograms\", filename)\n",
        "        label = filename.split(\"_\")[0]\n",
        "        img = cv2.imread(path, cv2.IMREAD_GRAYSCALE)\n",
        "        img = cv2.resize(img, (img_size, img_size))\n",
        "        X.append(img)\n",
        "        y.append(label)\n",
        "\n",
        "X = np.array(X).astype(\"float32\") / 255.0\n",
        "X = X.reshape(-1, img_size, img_size, 1)\n",
        "\n",
        "# Encode labels\n",
        "le = LabelEncoder()\n",
        "y_encoded = le.fit_transform(y)\n",
        "y_cat = to_categorical(y_encoded)\n",
        "\n",
        "# Split data\n",
        "X_train, X_test, y_train, y_test = train_test_split(X, y_cat, test_size=0.2, random_state=42)\n",
        "\n",
        "# Build CNN model\n",
        "model = Sequential([\n",
        "    Conv2D(16, (3, 3), activation='relu', input_shape=(img_size, img_size, 1)),\n",
        "    MaxPooling2D((2, 2)),\n",
        "    Conv2D(32, (3, 3), activation='relu'),\n",
        "    MaxPooling2D((2, 2)),\n",
        "    Flatten(),\n",
        "    Dense(64, activation='relu'),\n",
        "    Dense(y_cat.shape[1], activation='softmax')\n",
        "])\n",
        "\n",
        "model.compile(optimizer='adam', loss='categorical_crossentropy', metrics=['accuracy'])\n",
        "\n",
        "# Train model\n",
        "print(\"Training CNN...\")\n",
        "model.fit(X_train, y_train, epochs=10, validation_data=(X_test, y_test), verbose=2)\n",
        "\n",
        "# Evaluate\n",
        "loss, accuracy = model.evaluate(X_test, y_test)\n",
        "print(f\"Test Accuracy: {accuracy*100:.2f}%\")"
      ],
      "metadata": {
        "colab": {
          "base_uri": "https://localhost:8080/"
        },
        "id": "hh3uWcW-F-o9",
        "outputId": "e9c9a6a6-b2be-49ad-b6d1-1697cfd7bf18"
      },
      "execution_count": 4,
      "outputs": [
        {
          "output_type": "stream",
          "name": "stderr",
          "text": [
            "/usr/local/lib/python3.11/dist-packages/keras/src/layers/convolutional/base_conv.py:107: UserWarning: Do not pass an `input_shape`/`input_dim` argument to a layer. When using Sequential models, prefer using an `Input(shape)` object as the first layer in the model instead.\n",
            "  super().__init__(activity_regularizer=activity_regularizer, **kwargs)\n"
          ]
        },
        {
          "output_type": "stream",
          "name": "stdout",
          "text": [
            "Training CNN...\n",
            "Epoch 1/10\n",
            "1/1 - 4s - 4s/step - accuracy: 0.2083 - loss: 1.6091 - val_accuracy: 0.0000e+00 - val_loss: 1.8318\n",
            "Epoch 2/10\n",
            "1/1 - 4s - 4s/step - accuracy: 0.2500 - loss: 1.5492 - val_accuracy: 0.0000e+00 - val_loss: 1.7581\n",
            "Epoch 3/10\n",
            "1/1 - 1s - 946ms/step - accuracy: 0.2500 - loss: 1.4780 - val_accuracy: 0.0000e+00 - val_loss: 1.6830\n",
            "Epoch 4/10\n",
            "1/1 - 1s - 1s/step - accuracy: 0.4583 - loss: 1.4081 - val_accuracy: 0.0000e+00 - val_loss: 1.6264\n",
            "Epoch 5/10\n",
            "1/1 - 1s - 1s/step - accuracy: 0.5000 - loss: 1.3191 - val_accuracy: 0.5000 - val_loss: 1.6051\n",
            "Epoch 6/10\n",
            "1/1 - 1s - 872ms/step - accuracy: 0.7917 - loss: 1.2212 - val_accuracy: 0.3333 - val_loss: 1.6023\n",
            "Epoch 7/10\n",
            "1/1 - 1s - 1s/step - accuracy: 0.8333 - loss: 1.1266 - val_accuracy: 0.3333 - val_loss: 1.5618\n",
            "Epoch 8/10\n",
            "1/1 - 1s - 1s/step - accuracy: 0.8333 - loss: 1.0275 - val_accuracy: 0.3333 - val_loss: 1.4690\n",
            "Epoch 9/10\n",
            "1/1 - 1s - 1s/step - accuracy: 0.8333 - loss: 0.9229 - val_accuracy: 0.3333 - val_loss: 1.3784\n",
            "Epoch 10/10\n",
            "1/1 - 1s - 1s/step - accuracy: 0.9583 - loss: 0.8253 - val_accuracy: 0.3333 - val_loss: 1.3605\n",
            "\u001b[1m1/1\u001b[0m \u001b[32m━━━━━━━━━━━━━━━━━━━━\u001b[0m\u001b[37m\u001b[0m \u001b[1m0s\u001b[0m 244ms/step - accuracy: 0.3333 - loss: 1.3605\n",
            "Test Accuracy: 33.33%\n"
          ]
        }
      ]
    },
    {
      "cell_type": "code",
      "source": [
        "import matplotlib.pyplot as plt\n",
        "import random\n",
        "\n",
        "# Pick random test images to visualize\n",
        "indices = random.sample(range(len(X_test)), 5)\n",
        "\n",
        "for i in indices:\n",
        "    img = X_test[i].reshape(img_size, img_size)\n",
        "    true_label = le.inverse_transform([np.argmax(y_test[i])])[0]\n",
        "    pred_label = le.inverse_transform([np.argmax(model.predict(X_test[i:i+1]))])[0]\n",
        "\n",
        "    plt.figure(figsize=(3, 3))\n",
        "    plt.imshow(img, cmap='gray')\n",
        "    plt.title(f\"True: {true_label} | Pred: {pred_label}\")\n",
        "    plt.axis('off')\n",
        "    plt.show()"
      ],
      "metadata": {
        "colab": {
          "base_uri": "https://localhost:8080/",
          "height": 1000
        },
        "id": "3X3Zt1PgVa1I",
        "outputId": "3d46da1b-ab06-4f2b-8a2c-30c895be8c56"
      },
      "execution_count": 5,
      "outputs": [
        {
          "output_type": "stream",
          "name": "stdout",
          "text": [
            "\u001b[1m1/1\u001b[0m \u001b[32m━━━━━━━━━━━━━━━━━━━━\u001b[0m\u001b[37m\u001b[0m \u001b[1m0s\u001b[0m 283ms/step\n"
          ]
        },
        {
          "output_type": "display_data",
          "data": {
            "text/plain": [
              "<Figure size 300x300 with 1 Axes>"
            ],
            "image/png": "[encoded data removed]"
          },
          "metadata": {}
        },
        {
          "output_type": "stream",
          "name": "stdout",
          "text": [
            "\u001b[1m1/1\u001b[0m \u001b[32m━━━━━━━━━━━━━━━━━━━━\u001b[0m\u001b[37m\u001b[0m \u001b[1m0s\u001b[0m 125ms/step\n"
          ]
        },
        {
          "output_type": "display_data",
          "data": {
            "text/plain": [
              "<Figure size 300x300 with 1 Axes>"
            ],
            "image/png": "[encoded data removed]"
          },
          "metadata": {}
        },
        {
          "output_type": "stream",
          "name": "stdout",
          "text": [
            "\u001b[1m1/1\u001b[0m \u001b[32m━━━━━━━━━━━━━━━━━━━━\u001b[0m\u001b[37m\u001b[0m \u001b[1m0s\u001b[0m 99ms/step\n"
          ]
        },
        {
          "output_type": "display_data",
          "data": {
            "text/plain": [
              "<Figure size 300x300 with 1 Axes>"
            ],
            "image/png": "[encoded data removed]"
          },
          "metadata": {}
        },
        {
          "output_type": "stream",
          "name": "stdout",
          "text": [
            "\u001b[1m1/1\u001b[0m \u001b[32m━━━━━━━━━━━━━━━━━━━━\u001b[0m\u001b[37m\u001b[0m \u001b[1m0s\u001b[0m 215ms/step\n"
          ]
        },
        {
          "output_type": "display_data",
          "data": {
            "text/plain": [
              "<Figure size 300x300 with 1 Axes>"
            ],
            "image/png": "[encoded data removed]"
          },
          "metadata": {}
        },
        {
          "output_type": "stream",
          "name": "stdout",
          "text": [
            "\u001b[1m1/1\u001b[0m \u001b[32m━━━━━━━━━━━━━━━━━━━━\u001b[0m\u001b[37m\u001b[0m \u001b[1m0s\u001b[0m 158ms/step\n"
          ]
        },
        {
          "output_type": "display_data",
          "data": {
            "text/plain": [
              "<Figure size 300x300 with 1 Axes>"
            ],
            "image/png": "[encoded data removed]"
          },
          "metadata": {}
        }
      ]
    },
    {
      "cell_type": "code",
      "source": [
        "import matplotlib.pyplot as plt\n",
        "import random\n",
        "\n",
        "indices = random.sample(range(len(X_test)), 5)\n",
        "\n",
        "for i, idx in enumerate(indices):\n",
        "    img = X_test[idx].reshape(img_size, img_size)\n",
        "    true_label = le.inverse_transform([np.argmax(y_test[idx])])[0]\n",
        "    pred_label = le.inverse_transform([np.argmax(model.predict(X_test[idx:idx+1]))])[0]\n",
        "\n",
        "    plt.figure(figsize=(4, 4))  # Increase size for better quality\n",
        "    plt.imshow(img, cmap='gray')\n",
        "    plt.title(f\"True: {true_label} | Pred: {pred_label}\")\n",
        "    plt.axis('off')\n",
        "    plt.tight_layout()\n",
        "    plt.savefig(f\"cnn_prediction_{i+1}.png\", dpi=300, bbox_inches='tight', pad_inches=0)\n",
        "    plt.close()"
      ],
      "metadata": {
        "colab": {
          "base_uri": "https://localhost:8080/"
        },
        "id": "SFIyUZ-RWJu6",
        "outputId": "13798e3d-0a0c-44ea-a765-23aed2868dae"
      },
      "execution_count": 6,
      "outputs": [
        {
          "output_type": "stream",
          "name": "stdout",
          "text": [
            "\u001b[1m1/1\u001b[0m \u001b[32m━━━━━━━━━━━━━━━━━━━━\u001b[0m\u001b[37m\u001b[0m \u001b[1m0s\u001b[0m 143ms/step\n",
            "\u001b[1m1/1\u001b[0m \u001b[32m━━━━━━━━━━━━━━━━━━━━\u001b[0m\u001b[37m\u001b[0m \u001b[1m0s\u001b[0m 107ms/step\n",
            "\u001b[1m1/1\u001b[0m \u001b[32m━━━━━━━━━━━━━━━━━━━━\u001b[0m\u001b[37m\u001b[0m \u001b[1m0s\u001b[0m 174ms/step\n",
            "\u001b[1m1/1\u001b[0m \u001b[32m━━━━━━━━━━━━━━━━━━━━\u001b[0m\u001b[37m\u001b[0m \u001b[1m0s\u001b[0m 78ms/step\n",
            "\u001b[1m1/1\u001b[0m \u001b[32m━━━━━━━━━━━━━━━━━━━━\u001b[0m\u001b[37m\u001b[0m \u001b[1m0s\u001b[0m 99ms/step\n"
          ]
        }
      ]
    },
    {
      "cell_type": "code",
      "source": [
        "_ = model.predict(X_test[:1])  # Run a forward pass to initialize model"
      ],
      "metadata": {
        "colab": {
          "base_uri": "https://localhost:8080/"
        },
        "id": "bHD7FEEDZKnS",
        "outputId": "bd21a00a-67e1-4ec6-8571-876feee55abc"
      },
      "execution_count": 7,
      "outputs": [
        {
          "output_type": "stream",
          "name": "stdout",
          "text": [
            "\u001b[1m1/1\u001b[0m \u001b[32m━━━━━━━━━━━━━━━━━━━━\u001b[0m\u001b[37m\u001b[0m \u001b[1m0s\u001b[0m 146ms/step\n"
          ]
        }
      ]
    },
    {
      "cell_type": "code",
      "source": [
        "from tensorflow.keras import Input, Model\n",
        "from tensorflow.keras.layers import Conv2D, MaxPooling2D, Flatten, Dense\n",
        "\n",
        "inputs = Input(shape=(img_size, img_size, 1))\n",
        "x = Conv2D(16, (3, 3), activation='relu')(inputs)\n",
        "x = MaxPooling2D((2, 2))(x)\n",
        "x = Conv2D(32, (3, 3), activation='relu')(x)\n",
        "x = MaxPooling2D((2, 2))(x)\n",
        "x = Flatten()(x)\n",
        "x = Dense(64, activation='relu')(x)\n",
        "outputs = Dense(5, activation='softmax')(x)\n",
        "\n",
        "model = Model(inputs, outputs)\n",
        "model.compile(optimizer='adam', loss='categorical_crossentropy', metrics=['accuracy'])"
      ],
      "metadata": {
        "id": "P2qBYv59ZpyQ"
      },
      "execution_count": 8,
      "outputs": []
    },
    {
      "cell_type": "code",
      "source": [
        "_ = model.predict(X_test[:1])"
      ],
      "metadata": {
        "colab": {
          "base_uri": "https://localhost:8080/"
        },
        "id": "Z0XMDDpjZuwg",
        "outputId": "cae89c37-4f1b-433c-c9a0-1cf06eb8fbc1"
      },
      "execution_count": 9,
      "outputs": [
        {
          "output_type": "stream",
          "name": "stdout",
          "text": [
            "\u001b[1m1/1\u001b[0m \u001b[32m━━━━━━━━━━━━━━━━━━━━\u001b[0m\u001b[37m\u001b[0m \u001b[1m0s\u001b[0m 286ms/step\n"
          ]
        }
      ]
    },
    {
      "cell_type": "code",
      "source": [
        "def display_gradcam(img, true_label_idx, model, last_conv_layer_name):\n",
        "    import tensorflow as tf\n",
        "    import numpy as np\n",
        "    import matplotlib.pyplot as plt\n",
        "    import cv2\n",
        "\n",
        "    img_size = img.shape[0]  # assuming square image\n",
        "    img_input = np.expand_dims(img, axis=0)\n",
        "\n",
        "    grad_model = tf.keras.models.Model(\n",
        "        [model.inputs], [model.get_layer(last_conv_layer_name).output, model.output]\n",
        "    )\n",
        "\n",
        "    with tf.GradientTape() as tape:\n",
        "        conv_outputs, predictions = grad_model(img_input)\n",
        "        loss = predictions[:, true_label_idx]\n",
        "\n",
        "    grads = tape.gradient(loss, conv_outputs)[0]\n",
        "    pooled_grads = tf.reduce_mean(grads, axis=(0, 1)).numpy()\n",
        "    conv_outputs = conv_outputs[0].numpy()\n",
        "\n",
        "    for i in range(pooled_grads.shape[-1]):\n",
        "        conv_outputs[:, :, i] *= pooled_grads[i]\n",
        "\n",
        "    heatmap = np.mean(conv_outputs, axis=-1)\n",
        "    heatmap = np.maximum(heatmap, 0)\n",
        "    heatmap /= np.max(heatmap)\n",
        "\n",
        "    # Resize heatmap to match original image size\n",
        "    heatmap_resized = cv2.resize(heatmap, (img_size, img_size))\n",
        "    heatmap_colored = cv2.applyColorMap(np.uint8(255 * heatmap_resized), cv2.COLORMAP_JET)\n",
        "\n",
        "    # Convert grayscale image to 3-channel uint8 and resize if needed\n",
        "    img_gray = np.uint8(255 * img)\n",
        "    if len(img_gray.shape) == 2:\n",
        "        img_gray = cv2.cvtColor(img_gray, cv2.COLOR_GRAY2BGR)\n",
        "    if img_gray.shape != heatmap_colored.shape:\n",
        "        img_gray = cv2.resize(img_gray, (img_size, img_size))\n",
        "\n",
        "    # Combine the two images\n",
        "    overlay = cv2.addWeighted(img_gray, 0.6, heatmap_colored, 0.4, 0)\n",
        "\n",
        "    # Display result\n",
        "    plt.figure(figsize=(4, 4))\n",
        "    plt.imshow(cv2.cvtColor(overlay, cv2.COLOR_BGR2RGB))\n",
        "    plt.title(f\"Grad-CAM | True Label: {le.inverse_transform([true_label_idx])[0]}\")\n",
        "    plt.axis('off')\n",
        "    plt.show()"
      ],
      "metadata": {
        "id": "TVR0IQKaedwx"
      },
      "execution_count": 10,
      "outputs": []
    },
    {
      "cell_type": "code",
      "source": [
        "for layer in model.layers:\n",
        "    print(f\"{layer.name}: {type(layer)}\")"
      ],
      "metadata": {
        "colab": {
          "base_uri": "https://localhost:8080/"
        },
        "id": "4CIAIAojgGL4",
        "outputId": "3950b254-61f1-4d9f-ad2b-381806c5e696"
      },
      "execution_count": 11,
      "outputs": [
        {
          "output_type": "stream",
          "name": "stdout",
          "text": [
            "input_layer_1: <class 'keras.src.layers.core.input_layer.InputLayer'>\n",
            "conv2d_2: <class 'keras.src.layers.convolutional.conv2d.Conv2D'>\n",
            "max_pooling2d_2: <class 'keras.src.layers.pooling.max_pooling2d.MaxPooling2D'>\n",
            "conv2d_3: <class 'keras.src.layers.convolutional.conv2d.Conv2D'>\n",
            "max_pooling2d_3: <class 'keras.src.layers.pooling.max_pooling2d.MaxPooling2D'>\n",
            "flatten_1: <class 'keras.src.layers.reshaping.flatten.Flatten'>\n",
            "dense_2: <class 'keras.src.layers.core.dense.Dense'>\n",
            "dense_3: <class 'keras.src.layers.core.dense.Dense'>\n"
          ]
        }
      ]
    },
    {
      "cell_type": "code",
      "source": [
        "last_conv_layer_name = \"conv2d_3\""
      ],
      "metadata": {
        "id": "g45X5PHIgU8R"
      },
      "execution_count": 12,
      "outputs": []
    },
    {
      "cell_type": "code",
      "source": [
        "indices_gradcam = [0, 1, 2]\n",
        "for idx in indices_gradcam:\n",
        "    display_gradcam(X_test[idx], np.argmax(y_test[idx]), model, last_conv_layer_name)"
      ],
      "metadata": {
        "colab": {
          "base_uri": "https://localhost:8080/",
          "height": 473
        },
        "id": "TZqwSSe3geMS",
        "outputId": "c5405364-df96-425b-db41-e35a65ecbffe"
      },
      "execution_count": 13,
      "outputs": [
        {
          "output_type": "stream",
          "name": "stderr",
          "text": [
            "/usr/local/lib/python3.11/dist-packages/keras/src/models/functional.py:237: UserWarning: The structure of `inputs` doesn't match the expected structure.\n",
            "Expected: [['keras_tensor_8']]\n",
            "Received: inputs=Tensor(shape=(1, 128, 128, 1))\n",
            "  warnings.warn(msg)\n",
            "/tmp/ipython-input-10-416446154.py:27: RuntimeWarning: invalid value encountered in divide\n",
            "  heatmap /= np.max(heatmap)\n",
            "/tmp/ipython-input-10-416446154.py:31: RuntimeWarning: invalid value encountered in cast\n",
            "  heatmap_colored = cv2.applyColorMap(np.uint8(255 * heatmap_resized), cv2.COLORMAP_JET)\n"
          ]
        },
        {
          "output_type": "error",
          "ename": "error",
          "evalue": "OpenCV(4.11.0) /io/opencv/modules/core/src/arithm.cpp:662: error: (-209:Sizes of input arguments do not match) The operation is neither 'array op array' (where arrays have the same size and the same number of channels), nor 'array op scalar', nor 'scalar op array' in function 'arithm_op'\n",
          "traceback": [
            "\u001b[0;31m---------------------------------------------------------------------------\u001b[0m",
            "\u001b[0;31merror\u001b[0m                                     Traceback (most recent call last)",
            "\u001b[0;32m/tmp/ipython-input-13-2540711775.py\u001b[0m in \u001b[0;36m<cell line: 0>\u001b[0;34m()\u001b[0m\n\u001b[1;32m      1\u001b[0m \u001b[0mindices_gradcam\u001b[0m \u001b[0;34m=\u001b[0m \u001b[0;34m[\u001b[0m\u001b[0;36m0\u001b[0m\u001b[0;34m,\u001b[0m \u001b[0;36m1\u001b[0m\u001b[0;34m,\u001b[0m \u001b[0;36m2\u001b[0m\u001b[0;34m]\u001b[0m\u001b[0;34m\u001b[0m\u001b[0;34m\u001b[0m\u001b[0m\n\u001b[1;32m      2\u001b[0m \u001b[0;32mfor\u001b[0m \u001b[0midx\u001b[0m \u001b[0;32min\u001b[0m \u001b[0mindices_gradcam\u001b[0m\u001b[0;34m:\u001b[0m\u001b[0;34m\u001b[0m\u001b[0;34m\u001b[0m\u001b[0m\n\u001b[0;32m----> 3\u001b[0;31m     \u001b[0mdisplay_gradcam\u001b[0m\u001b[0;34m(\u001b[0m\u001b[0mX_test\u001b[0m\u001b[0;34m[\u001b[0m\u001b[0midx\u001b[0m\u001b[0;34m]\u001b[0m\u001b[0;34m,\u001b[0m \u001b[0mnp\u001b[0m\u001b[0;34m.\u001b[0m\u001b[0margmax\u001b[0m\u001b[0;34m(\u001b[0m\u001b[0my_test\u001b[0m\u001b[0;34m[\u001b[0m\u001b[0midx\u001b[0m\u001b[0;34m]\u001b[0m\u001b[0;34m)\u001b[0m\u001b[0;34m,\u001b[0m \u001b[0mmodel\u001b[0m\u001b[0;34m,\u001b[0m \u001b[0mlast_conv_layer_name\u001b[0m\u001b[0;34m)\u001b[0m\u001b[0;34m\u001b[0m\u001b[0;34m\u001b[0m\u001b[0m\n\u001b[0m",
            "\u001b[0;32m/tmp/ipython-input-10-416446154.py\u001b[0m in \u001b[0;36mdisplay_gradcam\u001b[0;34m(img, true_label_idx, model, last_conv_layer_name)\u001b[0m\n\u001b[1;32m     39\u001b[0m \u001b[0;34m\u001b[0m\u001b[0m\n\u001b[1;32m     40\u001b[0m     \u001b[0;31m# Combine the two images\u001b[0m\u001b[0;34m\u001b[0m\u001b[0;34m\u001b[0m\u001b[0m\n\u001b[0;32m---> 41\u001b[0;31m     \u001b[0moverlay\u001b[0m \u001b[0;34m=\u001b[0m \u001b[0mcv2\u001b[0m\u001b[0;34m.\u001b[0m\u001b[0maddWeighted\u001b[0m\u001b[0;34m(\u001b[0m\u001b[0mimg_gray\u001b[0m\u001b[0;34m,\u001b[0m \u001b[0;36m0.6\u001b[0m\u001b[0;34m,\u001b[0m \u001b[0mheatmap_colored\u001b[0m\u001b[0;34m,\u001b[0m \u001b[0;36m0.4\u001b[0m\u001b[0;34m,\u001b[0m \u001b[0;36m0\u001b[0m\u001b[0;34m)\u001b[0m\u001b[0;34m\u001b[0m\u001b[0;34m\u001b[0m\u001b[0m\n\u001b[0m\u001b[1;32m     42\u001b[0m \u001b[0;34m\u001b[0m\u001b[0m\n\u001b[1;32m     43\u001b[0m     \u001b[0;31m# Display result\u001b[0m\u001b[0;34m\u001b[0m\u001b[0;34m\u001b[0m\u001b[0m\n",
            "\u001b[0;31merror\u001b[0m: OpenCV(4.11.0) /io/opencv/modules/core/src/arithm.cpp:662: error: (-209:Sizes of input arguments do not match) The operation is neither 'array op array' (where arrays have the same size and the same number of channels), nor 'array op scalar', nor 'scalar op array' in function 'arithm_op'\n"
          ]
        }
      ]
    },
    {
      "cell_type": "code",
      "source": [
        "def display_gradcam(img, true_label_idx, model, last_conv_layer_name):\n",
        "    import cv2\n",
        "    import numpy as np\n",
        "    import matplotlib.pyplot as plt\n",
        "    import tensorflow as tf\n",
        "\n",
        "    img_size = img.shape[0]\n",
        "    img_input = np.expand_dims(img, axis=0)\n",
        "\n",
        "    grad_model = tf.keras.models.Model(\n",
        "        [model.inputs], [model.get_layer(last_conv_layer_name).output, model.output]\n",
        "    )\n",
        "\n",
        "    with tf.GradientTape() as tape:\n",
        "        conv_outputs, predictions = grad_model(img_input)\n",
        "        loss = predictions[:, true_label_idx]\n",
        "\n",
        "    grads = tape.gradient(loss, conv_outputs)[0]\n",
        "    pooled_grads = tf.reduce_mean(grads, axis=(0, 1)).numpy()\n",
        "    conv_outputs = conv_outputs[0].numpy()\n",
        "\n",
        "    for i in range(pooled_grads.shape[-1]):\n",
        "        conv_outputs[:, :, i] *= pooled_grads[i]\n",
        "\n",
        "    heatmap = np.mean(conv_outputs, axis=-1)\n",
        "    heatmap = np.maximum(heatmap, 0)\n",
        "    heatmap /= np.max(heatmap) + 1e-6\n",
        "\n",
        "    heatmap_resized = cv2.resize(heatmap, (img_size, img_size))\n",
        "    heatmap_colored = cv2.applyColorMap(np.uint8(255 * heatmap_resized), cv2.COLORMAP_JET)\n",
        "\n",
        "    # Convert grayscale to RGB and resize if needed\n",
        "    img_gray = np.uint8(255 * img)\n",
        "    if len(img_gray.shape) == 2:\n",
        "        img_gray = cv2.cvtColor(img_gray, cv2.COLOR_GRAY2BGR)\n",
        "    if img_gray.shape != heatmap_colored.shape:\n",
        "        heatmap_colored = cv2.resize(heatmap_colored, (img_gray.shape[1], img_gray.shape[0]))\n",
        "\n",
        "    overlay = cv2.addWeighted(img_gray, 0.6, heatmap_colored, 0.4, 0)\n",
        "\n",
        "    plt.figure(figsize=(4, 4))\n",
        "    plt.imshow(cv2.cvtColor(overlay, cv2.COLOR_BGR2RGB))\n",
        "    plt.title(f\"Grad-CAM | True Label: {le.inverse_transform([true_label_idx])[0]}\")\n",
        "    plt.axis('off')\n",
        "    plt.show()"
      ],
      "metadata": {
        "id": "IFp5XqhmgtLB"
      },
      "execution_count": null,
      "outputs": []
    },
    {
      "cell_type": "code",
      "source": [
        "indices_gradcam = [0, 1, 2]\n",
        "for idx in indices_gradcam:\n",
        "    display_gradcam(X_test[idx], np.argmax(y_test[idx]), model, last_conv_layer_name)"
      ],
      "metadata": {
        "id": "-YWpnZBIg1Lx"
      },
      "execution_count": null,
      "outputs": []
    },
    {
      "cell_type": "code",
      "source": [
        "def display_gradcam(img, true_label_idx, model, last_conv_layer_name):\n",
        "    import cv2\n",
        "    import numpy as np\n",
        "    import matplotlib.pyplot as plt\n",
        "    import tensorflow as tf\n",
        "\n",
        "    img_size = img.shape[0]\n",
        "    img_input = np.expand_dims(img, axis=0)\n",
        "\n",
        "    grad_model = tf.keras.models.Model(\n",
        "        [model.inputs], [model.get_layer(last_conv_layer_name).output, model.output]\n",
        "    )\n",
        "\n",
        "    with tf.GradientTape() as tape:\n",
        "        conv_outputs, predictions = grad_model(img_input)\n",
        "        loss = predictions[:, true_label_idx]\n",
        "\n",
        "    grads = tape.gradient(loss, conv_outputs)[0]\n",
        "    pooled_grads = tf.reduce_mean(grads, axis=(0, 1)).numpy()\n",
        "    conv_outputs = conv_outputs[0].numpy()\n",
        "\n",
        "    for i in range(pooled_grads.shape[-1]):\n",
        "        conv_outputs[:, :, i] *= pooled_grads[i]\n",
        "\n",
        "    heatmap = np.mean(conv_outputs, axis=-1)\n",
        "    heatmap = np.maximum(heatmap, 0)\n",
        "    heatmap /= np.max(heatmap) + 1e-6\n",
        "\n",
        "    heatmap_resized = cv2.resize(heatmap, (img_size, img_size))\n",
        "    heatmap_colored = cv2.applyColorMap(np.uint8(255 * heatmap_resized), cv2.COLORMAP_JET)\n",
        "\n",
        "    # Convert grayscale to BGR with 3 channels\n",
        "    img_gray = np.uint8(255 * img)\n",
        "    if len(img_gray.shape) == 2:\n",
        "        img_gray = cv2.cvtColor(img_gray, cv2.COLOR_GRAY2BGR)\n",
        "    elif img_gray.shape[2] == 1:\n",
        "        img_gray = cv2.cvtColor(img_gray.squeeze(), cv2.COLOR_GRAY2BGR)\n",
        "\n",
        "    # Resize heatmap if needed\n",
        "    if img_gray.shape[:2] != heatmap_colored.shape[:2]:\n",
        "        heatmap_colored = cv2.resize(heatmap_colored, (img_gray.shape[1], img_gray.shape[0]))\n",
        "\n",
        "    # Overlay\n",
        "    overlay = cv2.addWeighted(img_gray, 0.6, heatmap_colored, 0.4, 0)\n",
        "\n",
        "    # Show\n",
        "    plt.figure(figsize=(4, 4))\n",
        "    plt.imshow(cv2.cvtColor(overlay, cv2.COLOR_BGR2RGB))\n",
        "    plt.title(f\"Grad-CAM | True Label: {le.inverse_transform([true_label_idx])[0]}\")\n",
        "    plt.axis('off')\n",
        "    plt.show()"
      ],
      "metadata": {
        "id": "Tr4LxdevhFEA"
      },
      "execution_count": null,
      "outputs": []
    },
    {
      "cell_type": "code",
      "source": [
        "indices_gradcam = [0, 1, 2]\n",
        "for idx in indices_gradcam:\n",
        "    display_gradcam(X_test[idx], np.argmax(y_test[idx]), model, last_conv_layer_name)\n"
      ],
      "metadata": {
        "id": "wKSff1lahK6z"
      },
      "execution_count": null,
      "outputs": []
    },
    {
      "cell_type": "code",
      "source": [],
      "metadata": {
        "id": "LIzdl2obVaze"
      },
      "execution_count": null,
      "outputs": []
    },
    {
      "cell_type": "code",
      "source": [],
      "metadata": {
        "id": "QmzyFyV7VdNH"
      },
      "execution_count": null,
      "outputs": []
    },
    {
      "cell_type": "code",
      "source": [
        "y_true = y_test\n"
      ],
      "metadata": {
        "id": "Nl38cbX6Nsj3"
      },
      "execution_count": null,
      "outputs": []
    },
    {
      "cell_type": "code",
      "source": [
        "labels = ['Healthy', 'Broken Rotor', 'Bearing Fault']\n",
        "\n",
        "cm = confusion_matrix(y_true, y_pred)\n",
        "\n",
        "plt.figure(figsize=(6, 5))\n",
        "sns.heatmap(cm, annot=True, fmt='d', cmap='Blues',\n",
        "            xticklabels=labels, yticklabels=labels)\n",
        "plt.xlabel('Predicted')\n",
        "plt.ylabel('Actual')\n",
        "plt.title('Confusion Matrix - CNN')\n",
        "plt.tight_layout()\n",
        "plt.savefig(\"figure6_confusion_matrix.png\")\n",
        "plt.show()"
      ],
      "metadata": {
        "id": "3_MAmA5mNx41"
      },
      "execution_count": null,
      "outputs": []
    },
    {
      "cell_type": "code",
      "source": [
        "import numpy as np\n",
        "from sklearn.metrics import confusion_matrix\n",
        "import seaborn as sns\n",
        "import matplotlib.pyplot as plt\n",
        "\n",
        "# Predict class labels\n",
        "y_pred_probs = model.predict(X_test)\n",
        "y_pred = np.argmax(y_pred_probs, axis=1)\n",
        "\n",
        "# Ensure y_test is label-encoded (not one-hot)\n",
        "if len(y_test.shape) > 1 and y_test.shape[1] > 1:\n",
        "    y_true = np.argmax(y_test, axis=1)\n",
        "else:\n",
        "    y_true = y_test  # Already label-encoded\n",
        "\n",
        "# Confusion matrix\n",
        "labels = ['Healthy', 'Broken Rotor', 'Bearing Fault']\n",
        "cm = confusion_matrix(y_true, y_pred)\n",
        "\n",
        "# Plot\n",
        "plt.figure(figsize=(6, 5))\n",
        "sns.heatmap(cm, annot=True, fmt='d', cmap='Blues',\n",
        "            xticklabels=labels, yticklabels=labels)\n",
        "plt.xlabel('Predicted')\n",
        "plt.ylabel('Actual')\n",
        "plt.title('Confusion Matrix - CNN')\n",
        "plt.tight_layout()\n",
        "plt.savefig(\"figure6_confusion_matrix.png\")\n",
        "plt.show()"
      ],
      "metadata": {
        "id": "SOnhIUkHN_Xz"
      },
      "execution_count": null,
      "outputs": []
    },
    {
      "cell_type": "code",
      "source": [
        "# prompt: import numpy as np\n",
        "# import matplotlib.pyplot as plt\n",
        "# # Load signals (adjust path if needed)\n",
        "# healthy = np.load(\"signals/healthy_signal.npy\")\n",
        "# broken_rotor = np.load(\"signals/broken_rotor_signal.npy\")\n",
        "# bearing_fault = np.load(\"signals/bearing_fault_signal.npy\")\n",
        "# # Time vector\n",
        "# t = np.linspace(0, 1, len(healthy))\n",
        "# # Plot all three\n",
        "# plt.figure(figsize=(10, 6))\n",
        "# plt.subplot(3, 1, 1)\n",
        "# plt.plot(t, healthy, color='green')\n",
        "# plt.title(\"Healthy Motor Signal\")\n",
        "# plt.ylabel(\"Amplitude\")\n",
        "# plt.subplot(3, 1, 2)\n",
        "# plt.plot(t, broken_rotor, color='orange')\n",
        "# plt.title(\"Broken Rotor Fault Signal\")\n",
        "# plt.ylabel(\"Amplitude\")\n",
        "# plt.subplot(3, 1, 3)\n",
        "# plt.plot(t, bearing_fault, color='red')\n",
        "# plt.title(\"Bearing Fault Signal\")\n",
        "# plt.xlabel(\"Time (s)\")\n",
        "# plt.ylabel(\"Amplitude\")\n",
        "# plt.tight_layout()\n",
        "# plt.savefig(\"figure1_motor_signals.png\")\n",
        "# plt.show()\n",
        "\n",
        "# Predict class labels\n",
        "y_pred_probs = model.predict(X_test)\n",
        "y_pred = np.argmax(y_pred_probs, axis=1)\n",
        "\n",
        "# Ensure y_test is label-encoded (not one-hot)\n",
        "if len(y_test.shape) > 1 and y_test.shape[1] > 1:\n",
        "    y_true = np.argmax(y_test, axis=1)\n",
        "else:\n",
        "    y_true = y_test  # Already label-encoded\n",
        "\n",
        "# Confusion matrix\n",
        "# Use the le object to get the actual class labels\n",
        "labels = le.classes_\n",
        "cm = confusion_matrix(y_true, y_pred)\n",
        "\n",
        "# Plot\n",
        "plt.figure(figsize=(8, 7)) # Slightly larger figure for more labels\n",
        "sns.heatmap(cm, annot=True, fmt='d', cmap='Blues',\n",
        "            xticklabels=labels, yticklabels=labels)\n",
        "plt.xlabel('Predicted')\n",
        "plt.ylabel('Actual')\n",
        "plt.title('Confusion Matrix - CNN')\n",
        "plt.tight_layout()\n",
        "plt.savefig(\"figure6_confusion_matrix.png\")\n",
        "plt.show()\n"
      ],
      "metadata": {
        "id": "frjHCp8JP_v7"
      },
      "execution_count": null,
      "outputs": []
    },
    {
      "cell_type": "code",
      "source": [
        "# prompt: import numpy as np\n",
        "# import matplotlib.pyplot as plt\n",
        "# # Load signals (adjust path if needed)\n",
        "# healthy = np.load(\"signals/healthy_signal.npy\")\n",
        "# broken_rotor = np.load(\"signals/broken_rotor_signal.npy\")\n",
        "# bearing_fault = np.load(\"signals/bearing_fault_signal.npy\")\n",
        "# # Time vector (فرض می‌کنیم طول همه یکیه)\n",
        "# t = np.linspace(0, 1, len(healthy))\n",
        "# # Plot\n",
        "# plt.figure(figsize=(10, 6))\n",
        "# plt.subplot(3, 1, 1)\n",
        "# plt.plot(t, healthy, color='green')\n",
        "# plt.title(\"Healthy Motor Signal\")\n",
        "# plt.ylabel(\"Amplitude\")\n",
        "# plt.subplot(3, 1, 2)\n",
        "# plt.plot(t, broken_rotor, color='orange')\n",
        "# plt.title(\"Broken Rotor Fault Signal\")\n",
        "# plt.ylabel(\"Amplitude\")\n",
        "# plt.subplot(3, 1, 3)\n",
        "# plt.plot(t, bearing_fault, color='red')\n",
        "# plt.title(\"Bearing Fault Signal\")\n",
        "# plt.xlabel(\"Time (s)\")\n",
        "# plt.ylabel(\"Amplitude\")\n",
        "# plt.tight_layout()\n",
        "# plt.savefig(\"figure1_motor_signals.png\", dpi=300)\n",
        "# plt.show()\n",
        "\n",
        "# Load signals from saved .npy files again\n",
        "labels = [\"healthy\", \"broken_rotor\", \"bearing_fault\"] # Only these three are needed for this specific plot\n",
        "\n",
        "signals_to_plot = {}\n",
        "for label in labels:\n",
        "    signal = np.load(f\"signals/{label}.npy\")\n",
        "    signals_to_plot[label] = signal\n",
        "\n",
        "# Time vector (assuming all signals have the same length)\n",
        "t = np.linspace(0, 1, len(list(signals_to_plot.values())[0]))\n",
        "\n",
        "# Plot\n",
        "plt.figure(figsize=(10, 6))\n",
        "\n",
        "plt.subplot(3, 1, 1)\n",
        "plt.plot(t, signals_to_plot[\"healthy\"], color='green')\n",
        "plt.title(\"Healthy Motor Signal\")\n",
        "plt.ylabel(\"Amplitude\")\n",
        "\n",
        "plt.subplot(3, 1, 2)\n",
        "plt.plot(t, signals_to_plot[\"broken_rotor\"], color='orange')\n",
        "plt.title(\"Broken Rotor Fault Signal\")\n",
        "plt.ylabel(\"Amplitude\")\n",
        "\n",
        "plt.subplot(3, 1, 3)\n",
        "plt.plot(t, signals_to_plot[\"bearing_fault\"], color='red')\n",
        "plt.title(\"Bearing Fault Signal\")\n",
        "plt.xlabel(\"Time (s)\")\n",
        "plt.ylabel(\"Amplitude\")\n",
        "\n",
        "plt.tight_layout()\n",
        "plt.savefig(\"figure1_motor_signals.png\", dpi=300)\n",
        "plt.show()"
      ],
      "metadata": {
        "id": "0Kb0_uy-Qt_-"
      },
      "execution_count": null,
      "outputs": []
    },
    {
      "cell_type": "code",
      "source": [
        "# prompt: import numpy as np\n",
        "# import tensorflow as tf\n",
        "# import matplotlib.pyplot as plt\n",
        "# import cv2\n",
        "# def make_gradcam_heatmap(img_array, model, last_conv_layer_name):\n",
        "#     grad_model = tf.keras.models.Model(\n",
        "#         [model.inputs],\n",
        "#         [model.get_layer(last_conv_layer_name).output, model.output]\n",
        "#     )\n",
        "#     with tf.GradientTape() as tape:\n",
        "#         conv_outputs, predictions = grad_model(np.expand_dims(img_array, axis=0))\n",
        "#         class_idx = tf.argmax(predictions[0])\n",
        "#         loss = predictions[:, class_idx]\n",
        "#     grads = tape.gradient(loss, conv_outputs)[0]\n",
        "#     pooled_grads = tf.reduce_mean(grads, axis=(0, 1, 2))\n",
        "#     conv_outputs = conv_outputs[0]\n",
        "#     for i in range(pooled_grads.shape[-1]):\n",
        "#         conv_outputs[:, :, i] *= pooled_grads[i]\n",
        "#     heatmap = np.mean(conv_outputs, axis=-1)\n",
        "#     heatmap = np.maximum(heatmap, 0)\n",
        "#     heatmap /= tf.reduce_max(heatmap)\n",
        "#     return heatmap.numpy()\n",
        "# def save_gradcam_image(image, heatmap, output_path, alpha=0.4):\n",
        "#     heatmap = cv2.resize(heatmap, (image.shape[1], image.shape[0]))\n",
        "#     heatmap_colored = cv2.applyColorMap(np.uint8(255 * heatmap), cv2.COLORMAP_JET)\n",
        "#     image_rgb = cv2.cvtColor(np.uint8(255 * image), cv2.COLOR_GRAY2RGB)\n",
        "#     overlay = cv2.addWeighted(image_rgb, 1 - alpha, heatmap_colored, alpha, 0)\n",
        "#     cv2.imwrite(output_path, overlay)\n",
        "# # ----------------------\n",
        "# # Update this if needed:\n",
        "# last_conv_layer_name = [l.name for l in model.layers if isinstance(l, tf.keras.layers.Conv2D)][-1]\n",
        "# # Map class indices\n",
        "# label_map = {0: \"healthy\", 1: \"broken_rotor\", 2: \"bearing_fault\"}\n",
        "# # Loop through classes\n",
        "# for class_idx in range(3):\n",
        "#     idx = np.where(np.argmax(y_test, axis=1) == class_idx)[0][0]\n",
        "#     img = X_test[idx]\n",
        "#     heatmap = make_gradcam_heatmap(img, model, last_conv_layer_name)\n",
        "#     output_filename = f\"gradcam_{label_map[class_idx]}.png\"\n",
        "#     save_gradcam_image(img.squeeze(), heatmap, output_filename)\n",
        "#     print(f\"✅ Saved: {output_filename}\")\n",
        "\n",
        "# Generate multiple samples by window slicing\n",
        "signals_to_scalogram = {\n",
        "    \"healthy\": np.load(\"signals/healthy.npy\"),\n",
        "    \"broken_rotor\": np.load(\"signals/broken_rotor.npy\"),\n",
        "    \"bearing_fault\": np.load(\"signals/bearing_fault.npy\"),\n",
        "    \"combined_fault\": np.load(\"signals/combined_fault.npy\"),\n",
        "    \"sensor_noise\": np.load(\"signals/sensor_noise.npy\")\n",
        "}\n",
        "\n",
        "scalogram_filenames = []\n",
        "for label, signal in signals_to_scalogram.items():\n",
        "    for i in range(6): # Generate 6 samples per class\n",
        "        start = i * 150\n",
        "        segment = signal[start:start+500] # Use a segment of 500 points\n",
        "        filename = create_scalogram(segment, label, i)\n",
        "        scalogram_filenames.append(filename)\n",
        "\n",
        "print(f\"{len(scalogram_filenames)} scalogram images saved in 'scalograms' folder.\")\n",
        "\n",
        "# Load these newly created images\n",
        "X_new = []\n",
        "y_new = []\n",
        "\n",
        "for filename in scalogram_filenames:\n",
        "    path = os.path.join(\"scalograms\", filename)\n",
        "    label = filename.split(\"_\")[0]\n",
        "    img = cv2.imread(path, cv2.IMREAD_GRAYSCALE)\n",
        "    img = cv2.resize(img, (img_size, img_size))\n",
        "    X_new.append(img)\n",
        "    y_new.append(label)\n",
        "\n",
        "X_new = np.array(X_new).astype(\"float32\") / 255.0\n",
        "X_new = X_new.reshape(-1, img_size, img_size, 1)\n",
        "\n",
        "# Encode labels using the existing encoder\n",
        "y_new_encoded = le.transform(y_new)\n",
        "y_new_cat = to_categorical(y_new_encoded, num_classes=len(le.classes_))\n",
        "\n",
        "# You can now use X_new and y_new_cat for training or evaluation,\n",
        "# for example, splitting them into train/test or adding to the existing data.\n",
        "# For now, let's print their shapes:\n",
        "print(f\"Shape of newly generated data X_new: {X_new.shape}\")\n",
        "print(f\"Shape of newly generated labels y_new_cat: {y_new_cat.shape}\")\n",
        "\n",
        "# Optional: Re-split the combined data\n",
        "X_combined = np.concatenate((X, X_new), axis=0)\n",
        "y_combined_cat = np.concatenate((y_cat, y_new_cat), axis=0)\n",
        "\n",
        "X_train, X_test, y_train, y_test = train_test_split(X_combined, y_combined_cat, test_size=0.2, random_state=42, stratify=y_combined_cat)\n",
        "\n",
        "print(f\"Shape of combined X_train: {X_train.shape}\")\n",
        "print(f\"Shape of combined X_test: {X_test.shape}\")\n",
        "print(f\"Shape of combined y_train: {y_train.shape}\")\n",
        "print(f\"Shape of combined y_test: {y_test.shape}\")"
      ],
      "metadata": {
        "id": "PR7dPpbVSczV"
      },
      "execution_count": null,
      "outputs": []
    },
    {
      "cell_type": "code",
      "source": [
        "# prompt: import os\n",
        "# import matplotlib.pyplot as plt\n",
        "# import numpy as np\n",
        "# import pywt\n",
        "# os.makedirs(\"scalograms\", exist_ok=True)\n",
        "# for idx, signal in enumerate(all_signals):  # all_signals = list of signals\n",
        "#     coef, freqs = pywt.cwt(signal, scales=np.arange(1, 65), wavelet='morl')\n",
        "#     plt.imshow(np.abs(coef), extent=[0, 1, 1, 64], cmap='jet', aspect='auto')\n",
        "#     plt.axis('off')\n",
        "#     label = labels[idx]  # e.g. 'healthy', 'broken_rotor', etc.\n",
        "#     filename = f\"scalograms/{label}_{idx}.png\"\n",
        "#     plt.savefig(filename, bbox_inches='tight', pad_inches=0)\n",
        "#     plt.close()\n",
        "\n",
        "# Define the list of all signals and their corresponding labels\n",
        "all_signals = []\n",
        "labels = []\n",
        "\n",
        "signal_files = {\n",
        "    \"healthy\": \"signals/healthy.npy\",\n",
        "    \"broken_rotor\": \"signals/broken_rotor.npy\",\n",
        "    \"bearing_fault\": \"signals/bearing_fault.npy\",\n",
        "    \"combined_fault\": \"signals/combined_fault.npy\",\n",
        "    \"sensor_noise\": \"signals/sensor_noise.npy\"\n",
        "}\n",
        "\n",
        "# Load the signals and create multiple segments\n",
        "segment_length = 500\n",
        "overlap = 350  # This creates overlapping segments\n",
        "step = segment_length - overlap # Step size for the window\n",
        "\n",
        "for label, file_path in signal_files.items():\n",
        "    signal = np.load(file_path)\n",
        "    # Create overlapping segments\n",
        "    for i in range(0, len(signal) - segment_length + 1, step):\n",
        "        segment = signal[i : i + segment_length]\n",
        "        all_signals.append(segment)\n",
        "        labels.append(label)\n",
        "\n",
        "print(f\"Generated {len(all_signals)} signal segments for scalogram creation.\")\n",
        "\n",
        "# Ensure the labels list has the same length as all_signals\n",
        "assert len(all_signals) == len(labels)"
      ],
      "metadata": {
        "id": "2Hw72Xx7TAOM"
      },
      "execution_count": null,
      "outputs": []
    },
    {
      "cell_type": "code",
      "source": [
        "# prompt: for filename in os.listdir(\"scalograms\"):\n",
        "#     path = os.path.join(\"scalograms\", filename)\n",
        "#     img = cv2.imread(path, cv2.IMREAD_GRAYSCALE)\n",
        "#     img = cv2.resize(img, (img_size, img_size))  # ← اینجا ارور داره\n",
        "\n",
        "# Process the generated segments to create scalograms\n",
        "scalogram_filenames = []\n",
        "for i, segment in enumerate(all_signals):\n",
        "    label = labels[i] # Get the corresponding label for the segment\n",
        "    filename = create_scalogram(segment, label, i) # Pass index for unique filename\n",
        "    scalogram_filenames.append(filename)\n",
        "\n",
        "print(f\"Created {len(scalogram_filenames)} scalogram images from segments.\")\n",
        "\n",
        "# Load these newly created images and their labels\n",
        "X_segments = []\n",
        "y_segments = []\n",
        "\n",
        "img_size = 128 # Ensure img_size is defined\n",
        "\n",
        "for filename in scalogram_filenames:\n",
        "    path = os.path.join(\"scalograms\", filename)\n",
        "    try:\n",
        "        img = cv2.imread(path, cv2.IMREAD_GRAYSCALE)\n",
        "        if img is not None:\n",
        "            # Check if the image is empty before resizing\n",
        "            if img.shape[0] > 0 and img.shape[1] > 0:\n",
        "                img_resized = cv2.resize(img, (img_size, img_size))\n",
        "                X_segments.append(img_resized)\n",
        "                # Extract label from filename (assuming filename format is label_index.png)\n",
        "                label = filename.split(\"_\")[0]\n",
        "                y_segments.append(label)\n",
        "            else:\n",
        "                print(f\"Warning: Image file {filename} is empty or invalid. Skipping.\")\n",
        "        else:\n",
        "            print(f\"Warning: Could not read image file {filename}. Skipping.\")\n",
        "    except Exception as e:\n",
        "        print(f\"Error processing image file {filename}: {e}. Skipping.\")\n",
        "\n",
        "\n",
        "X_segments = np.array(X_segments).astype(\"float32\") / 255.0\n",
        "X_segments = X_segments.reshape(-1, img_size, img_size, 1)\n",
        "\n",
        "# Encode labels using the existing encoder `le`\n",
        "# Make sure 'le' is defined and fitted before this block\n",
        "# If 'le' was fitted on a previous set of labels, ensure the new labels are within its classes\n",
        "try:\n",
        "    y_segments_encoded = le.transform(y_segments)\n",
        "    y_segments_cat = to_categorical(y_segments_encoded, num_classes=len(le.classes_))\n",
        "except NameError:\n",
        "    print(\"Error: LabelEncoder 'le' is not defined. Please ensure it's fitted before this step.\")\n",
        "except ValueError as e:\n",
        "    print(f\"Error during label encoding: {e}. Some new labels might not be in the encoder's classes.\")\n",
        "\n",
        "\n",
        "print(f\"Shape of generated segments data X_segments: {X_segments.shape}\")\n",
        "print(f\"Shape of generated segments labels y_segments_cat: {y_segments_cat.shape}\")\n",
        "\n",
        "# Now you can use X_segments and y_segments_cat for training,\n",
        "# for example, splitting them into train/test or adding to the existing data.\n",
        "# Example: Split the new data into training and test sets\n",
        "X_train_seg, X_test_seg, y_train_seg, y_test_seg = train_test_split(\n",
        "    X_segments, y_segments_cat, test_size=0.2, random_state=42, stratify=y_segments_cat\n",
        ")\n",
        "\n",
        "print(f\"Shape of X_train_seg: {X_train_seg.shape}\")\n",
        "print(f\"Shape of X_test_seg: {X_test_seg.shape}\")\n",
        "print(f\"Shape of y_train_seg: {y_train_seg.shape}\")\n",
        "print(f\"Shape of y_test_seg: {y_test_seg.shape}\")\n",
        "\n",
        "# You can optionally concatenate this with previous data or use it for a separate training step.\n",
        "# For example, to train the model on this new data:\n",
        "# history = model.fit(X_train_seg, y_train_seg, epochs=10, validation_data=(X_test_seg, y_test_seg), verbose=2)"
      ],
      "metadata": {
        "id": "pzq4bvubTFfM"
      },
      "execution_count": null,
      "outputs": []
    },
    {
      "cell_type": "code",
      "source": [
        "# prompt: img = cv2.imread(path, cv2.IMREAD_GRAYSCALE)\n",
        "# if img is None:\n",
        "#     print(f\"⚠️ Warning: Failed to load {path}\")\n",
        "#     continue\n",
        "# img = cv2.resize(img, (img_size, img_size))\n",
        "\n",
        "X_segments = []\n",
        "y_segments = []\n",
        "\n",
        "img_size = 128\n",
        "\n",
        "for filename in scalogram_filenames:\n",
        "    path = os.path.join(\"scalograms\", filename)\n",
        "    try:\n",
        "        img = cv2.imread(path, cv2.IMREAD_GRAYSCALE)\n",
        "        if img is not None:\n",
        "            # Check if the image is empty or invalid before resizing\n",
        "            if img.shape is not None and img.shape[0] > 0 and img.shape[1] > 0:\n",
        "                img_resized = cv2.resize(img, (img_size, img_size))\n",
        "                X_segments.append(img_resized)\n",
        "                # Extract label from filename (assuming filename format is label_index.png)\n",
        "                label = filename.split(\"_\")[0]\n",
        "                y_segments.append(label)\n",
        "            else:\n",
        "                print(f\"Warning: Image file {filename} is empty or invalid. Skipping.\")\n",
        "        else:\n",
        "            print(f\"Warning: Could not read image file {filename}. Skipping.\")\n",
        "    except Exception as e:\n",
        "        print(f\"Error processing image file {filename}: {e}. Skipping.\")\n",
        "\n",
        "\n",
        "X_segments = np.array(X_segments).astype(\"float32\") / 255.0\n",
        "X_segments = X_segments.reshape(-1, img_size, img_size, 1)\n",
        "\n",
        "# Encode labels using the existing encoder `le`\n",
        "# Make sure 'le' is defined and fitted before this block\n",
        "# If 'le' was fitted on a previous set of labels, ensure the new labels are within its classes\n",
        "try:\n",
        "    y_segments_encoded = le.transform(y_segments)\n",
        "    y_segments_cat = to_categorical(y_segments_encoded, num_classes=len(le.classes_))\n",
        "except NameError:\n",
        "    print(\"Error: LabelEncoder 'le' is not defined. Please ensure it's fitted before this step.\")\n",
        "except ValueError as e:\n",
        "    print(f\"Error during label encoding: {e}. Some new labels might not be in the encoder's classes.\")\n",
        "\n",
        "\n",
        "print(f\"Shape of generated segments data X_segments: {X_segments.shape}\")\n",
        "print(f\"Shape of generated segments labels y_segments_cat: {y_segments_cat.shape}\")\n",
        "\n",
        "# Now you can use X_segments and y_segments_cat for training,\n",
        "# for example, splitting them into train/test or adding to the existing data.\n",
        "# Example: Split the new data into training and test sets\n",
        "X_train_seg, X_test_seg, y_train_seg, y_test_seg = train_test_split(\n",
        "    X_segments, y_segments_cat, test_size=0.2, random_state=42, stratify=y_segments_cat\n",
        ")\n",
        "\n",
        "print(f\"Shape of X_train_seg: {X_train_seg.shape}\")\n",
        "print(f\"Shape of X_test_seg: {X_test_seg.shape}\")\n",
        "print(f\"Shape of y_train_seg: {y_train_seg.shape}\")\n",
        "print(f\"Shape of y_test_seg: {y_test_seg.shape}\")\n",
        "\n",
        "# You can optionally concatenate this with previous data or use it for a separate training step.\n",
        "# For example, to train the model on this new data:\n",
        "# history = model.fit(X_train_seg, y_train_seg, epochs=10, validation_data=(X_test_seg, y_test_seg), verbose=2)\n"
      ],
      "metadata": {
        "id": "bOackBu_TU9T"
      },
      "execution_count": null,
      "outputs": []
    },
    {
      "cell_type": "code",
      "source": [
        "# prompt: import os\n",
        "# import numpy as np\n",
        "# import matplotlib.pyplot as plt\n",
        "# import pywt\n",
        "# from scipy import signal\n",
        "# # Create output folder\n",
        "# os.makedirs(\"scalograms\", exist_ok=True)\n",
        "# # Simulate example signals\n",
        "# fs = 1000\n",
        "# t = np.linspace(0, 1, fs)\n",
        "# signals = {\n",
        "#     'healthy': np.sin(2 * np.pi * 50 * t),\n",
        "#     'broken_rotor': np.sin(2 * np.pi * 50 * t) + 0.5 * np.sin(2 * np.pi * 120 * t),\n",
        "#     'bearing_fault': np.sin(2 * np.pi * 50 * t) + signal.square(2 * np.pi * 10 * t),\n",
        "#     'combined_fault': np.sin(2 * np.pi * 50 * t) + np.random.normal(0, 0.3, fs),\n",
        "#     'sensor_noise': np.random.normal(0, 1, fs)\n",
        "# }\n",
        "# # Generate and save scalograms\n",
        "# for label, sig in signals.items():\n",
        "#     coef, freqs = pywt.cwt(sig, scales=np.arange(1, 129), wavelet='morl')\n",
        "#     plt.figure(figsize=(2, 2))\n",
        "#     plt.imshow(np.abs(coef), cmap='jet', aspect='auto')\n",
        "#     plt.axis('off')\n",
        "#     filename = f\"scalograms/{label}.png\"\n",
        "#     plt.savefig(filename, bbox_inches='tight', pad_inches=0)\n",
        "#     plt.close()\n",
        "#     print(f\"✅ Saved: {filename}\")\n",
        "\n",
        "# Define the list of all signals and their corresponding labels\n",
        "all_signals = []\n",
        "labels = []\n",
        "\n",
        "signal_files = {\n",
        "    \"healthy\": \"signals/healthy.npy\",\n",
        "    \"broken_rotor\": \"signals/broken_rotor.npy\",\n",
        "    \"bearing_fault\": \"signals/bearing_fault.npy\",\n",
        "    \"combined_fault\": \"signals/combined_fault.npy\",\n",
        "    \"sensor_noise\": \"signals/sensor_noise.npy\"\n",
        "}\n",
        "\n",
        "# Load the signals and create multiple segments\n",
        "segment_length = 500\n",
        "overlap = 350  # This creates overlapping segments\n",
        "step = segment_length - overlap # Step size for the window\n",
        "\n",
        "for label, file_path in signal_files.items():\n",
        "    signal = np.load(file_path)\n",
        "    # Create overlapping segments\n",
        "    for i in range(0, len(signal) - segment_length + 1, step):\n",
        "        segment = signal[i : i + segment_length]\n",
        "        all_signals.append(segment)\n",
        "        labels.append(label)\n",
        "\n",
        "print(f\"Generated {len(all_signals)} signal segments for scalogram creation.\")\n",
        "\n",
        "# Ensure the labels list has the same length as all_signals\n",
        "assert len(all_signals) == len(labels)\n",
        "\n",
        "# Process the generated segments to create scalograms\n",
        "scalogram_filenames = []\n",
        "for i, segment in enumerate(all_signals):\n",
        "    label = labels[i] # Get the corresponding label for the segment\n",
        "    filename = create_scalogram(segment, label, i) # Pass index for unique filename\n",
        "    scalogram_filenames.append(filename)\n",
        "\n",
        "print(f\"Created {len(scalogram_filenames)} scalogram images from segments.\")\n",
        "\n",
        "# Load these newly created images and their labels\n",
        "X_segments = []\n",
        "y_segments = []\n",
        "\n",
        "img_size = 128 # Ensure img_size is defined\n",
        "\n",
        "for filename in scalogram_filenames:\n",
        "    path = os.path.join(\"scalograms\", filename)\n",
        "    try:\n",
        "        img = cv2.imread(path, cv2.IMREAD_GRAYSCALE)\n",
        "        if img is not None:\n",
        "            # Check if the image is empty before resizing\n",
        "            if img.shape[0] > 0 and img.shape[1] > 0:\n",
        "                img_resized = cv2.resize(img, (img_size, img_size))\n",
        "                X_segments.append(img_resized)\n",
        "                # Extract label from filename (assuming filename format is label_index.png)\n",
        "                label = filename.split(\"_\")[0]\n",
        "                y_segments.append(label)\n",
        "            else:\n",
        "                print(f\"Warning: Image file {filename} is empty or invalid. Skipping.\")\n",
        "        else:\n",
        "            print(f\"Warning: Could not read image file {filename}. Skipping.\")\n",
        "    except Exception as e:\n",
        "        print(f\"Error processing image file {filename}: {e}. Skipping.\")\n",
        "\n",
        "\n",
        "X_segments = np.array(X_segments).astype(\"float32\") / 255.0\n",
        "X_segments = X_segments.reshape(-1, img_size, img_size, 1)\n",
        "\n",
        "# Encode labels using the existing encoder `le`\n",
        "# Make sure 'le' is defined and fitted before this block\n",
        "# If 'le' was fitted on a previous set of labels, ensure the new labels are within its classes\n",
        "try:\n",
        "    y_segments_encoded = le.transform(y_segments)\n",
        "    y_segments_cat = to_categorical(y_segments_encoded, num_classes=len(le.classes_))\n",
        "except NameError:\n",
        "    print(\"Error: LabelEncoder 'le' is not defined. Please ensure it's fitted before this step.\")\n",
        "except ValueError as e:\n",
        "    print(f\"Error during label encoding: {e}. Some new labels might not be in the encoder's classes.\")\n",
        "\n",
        "\n",
        "print(f\"Shape of generated segments data X_segments: {X_segments.shape}\")\n",
        "print(f\"Shape of generated segments labels y_segments_cat: {y_segments_cat.shape}\")\n",
        "\n",
        "# Now you can use X_segments and y_segments_cat for training,\n",
        "# for example, splitting them into train/test or adding to the existing data.\n",
        "# Example: Split the new data into training and test sets\n",
        "X_train_seg, X_test_seg, y_train_seg, y_test_seg = train_test_split(\n",
        "    X_segments, y_segments_cat, test_size=0.2, random_state=42, stratify=y_segments_cat\n",
        ")\n",
        "\n",
        "print(f\"Shape of X_train_seg: {X_train_seg.shape}\")\n",
        "print(f\"Shape of X_test_seg: {X_test_seg.shape}\")\n",
        "print(f\"Shape of y_train_seg: {y_train_seg.shape}\")\n",
        "print(f\"Shape of y_test_seg: {y_test_seg.shape}\")\n",
        "\n",
        "# You can optionally concatenate this with previous data or use it for a separate training step.\n",
        "# For example, to train the model on this new data:\n",
        "# history = model.fit(X_train_seg, y_train_seg, epochs=10, validation_data=(X_test_seg, y_test_seg), verbose=2)\n",
        "\n",
        "```"
      ],
      "metadata": {
        "id": "OzQpf9quVrI2"
      },
      "execution_count": null,
      "outputs": []
    },
    {
      "cell_type": "code",
      "source": [
        "import os\n",
        "import numpy as np\n",
        "import matplotlib.pyplot as plt\n",
        "import pywt\n",
        "from scipy import signal\n",
        "\n",
        "# Create output folder\n",
        "os.makedirs(\"scalograms\", exist_ok=True)\n",
        "\n",
        "# Simulate example signals\n",
        "fs = 1000\n",
        "t = np.linspace(0, 1, fs)\n",
        "\n",
        "signals = {\n",
        "    'healthy': np.sin(2 * np.pi * 50 * t),\n",
        "    'broken_rotor': np.sin(2 * np.pi * 50 * t) + 0.5 * np.sin(2 * np.pi * 120 * t),\n",
        "    'bearing_fault': np.sin(2 * np.pi * 50 * t) + signal.square(2 * np.pi * 10 * t),\n",
        "    'combined_fault': np.sin(2 * np.pi * 50 * t) + np.random.normal(0, 0.3, fs),\n",
        "    'sensor_noise': np.random.normal(0, 1, fs)\n",
        "}\n",
        "\n",
        "# Generate and save scalograms\n",
        "for label, sig in signals.items():\n",
        "    coef, freqs = pywt.cwt(sig, scales=np.arange(1, 129), wavelet='morl')\n",
        "    plt.figure(figsize=(2, 2))\n",
        "    plt.imshow(np.abs(coef), cmap='jet', aspect='auto')\n",
        "    plt.axis('off')\n",
        "    filename = f\"scalograms/{label}.png\"\n",
        "    plt.savefig(filename, bbox_inches='tight', pad_inches=0)\n",
        "    plt.close()\n",
        "    print(f\"✅ Saved: {filename}\")"
      ],
      "metadata": {
        "id": "6V1QNu2PWJIs"
      },
      "execution_count": null,
      "outputs": []
    },
    {
      "cell_type": "code",
      "source": [
        "import matplotlib.pyplot as plt\n",
        "import cv2\n",
        "\n",
        "labels = ['healthy', 'broken_rotor', 'bearing_fault', 'combined_fault', 'sensor_noise']\n",
        "\n",
        "for label in labels:\n",
        "    path = f\"scalograms/{label}.png\"\n",
        "    img = cv2.imread(path)\n",
        "    img_rgb = cv2.cvtColor(img, cv2.COLOR_BGR2RGB)\n",
        "    plt.figure(figsize=(3, 3))\n",
        "    plt.imshow(img_rgb)\n",
        "    plt.title(label.replace(\"_\", \" \").title())\n",
        "    plt.axis('off')\n",
        "    plt.show()"
      ],
      "metadata": {
        "id": "YVMX-c0eW8ft"
      },
      "execution_count": null,
      "outputs": []
    }
  ]
}